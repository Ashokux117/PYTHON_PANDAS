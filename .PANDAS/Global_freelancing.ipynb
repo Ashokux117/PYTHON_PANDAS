{
 "cells": [
  {
   "cell_type": "code",
   "execution_count": 1,
   "id": "ce2c93e8-8f1a-4e4a-9a5d-c0a6a04362c1",
   "metadata": {},
   "outputs": [],
   "source": [
    "import pandas as pd\n",
    "import numpy as np\n",
    "import matplotlib.pyplot as plt\n",
    "import seaborn as sns"
   ]
  },
  {
   "cell_type": "code",
   "execution_count": 2,
   "id": "77f7842f-ace2-4d19-ac92-ee46af39ce6f",
   "metadata": {},
   "outputs": [],
   "source": [
    "data =pd.read_csv(r\"C:\\Users\\DELL\\Downloads\\global_freelancers_raw.csv\")\n"
   ]
  },
  {
   "cell_type": "code",
   "execution_count": 3,
   "id": "1fdb81fb-36e9-41e4-8487-d9aa752b6c1e",
   "metadata": {},
   "outputs": [
    {
     "data": {
      "text/html": [
       "<div>\n",
       "<style scoped>\n",
       "    .dataframe tbody tr th:only-of-type {\n",
       "        vertical-align: middle;\n",
       "    }\n",
       "\n",
       "    .dataframe tbody tr th {\n",
       "        vertical-align: top;\n",
       "    }\n",
       "\n",
       "    .dataframe thead th {\n",
       "        text-align: right;\n",
       "    }\n",
       "</style>\n",
       "<table border=\"1\" class=\"dataframe\">\n",
       "  <thead>\n",
       "    <tr style=\"text-align: right;\">\n",
       "      <th></th>\n",
       "      <th>freelancer_ID</th>\n",
       "      <th>name</th>\n",
       "      <th>gender</th>\n",
       "      <th>age</th>\n",
       "      <th>country</th>\n",
       "      <th>language</th>\n",
       "      <th>primary_skill</th>\n",
       "      <th>years_of_experience</th>\n",
       "      <th>hourly_rate (USD)</th>\n",
       "      <th>rating</th>\n",
       "      <th>is_active</th>\n",
       "      <th>client_satisfaction</th>\n",
       "    </tr>\n",
       "  </thead>\n",
       "  <tbody>\n",
       "    <tr>\n",
       "      <th>0</th>\n",
       "      <td>FL250001</td>\n",
       "      <td>Ms. Nicole Kidd</td>\n",
       "      <td>f</td>\n",
       "      <td>52.0</td>\n",
       "      <td>Italy</td>\n",
       "      <td>Italian</td>\n",
       "      <td>Blockchain Development</td>\n",
       "      <td>11.0</td>\n",
       "      <td>100</td>\n",
       "      <td>NaN</td>\n",
       "      <td>0</td>\n",
       "      <td>NaN</td>\n",
       "    </tr>\n",
       "    <tr>\n",
       "      <th>1</th>\n",
       "      <td>FL250002</td>\n",
       "      <td>Vanessa Garcia</td>\n",
       "      <td>FEMALE</td>\n",
       "      <td>52.0</td>\n",
       "      <td>Australia</td>\n",
       "      <td>English</td>\n",
       "      <td>Mobile Apps</td>\n",
       "      <td>34.0</td>\n",
       "      <td>USD 100</td>\n",
       "      <td>3.3</td>\n",
       "      <td>1</td>\n",
       "      <td>84%</td>\n",
       "    </tr>\n",
       "    <tr>\n",
       "      <th>2</th>\n",
       "      <td>FL250003</td>\n",
       "      <td>Juan Nelson</td>\n",
       "      <td>male</td>\n",
       "      <td>53.0</td>\n",
       "      <td>Germany</td>\n",
       "      <td>German</td>\n",
       "      <td>Graphic Design</td>\n",
       "      <td>31.0</td>\n",
       "      <td>50</td>\n",
       "      <td>0.0</td>\n",
       "      <td>N</td>\n",
       "      <td>71%</td>\n",
       "    </tr>\n",
       "    <tr>\n",
       "      <th>3</th>\n",
       "      <td>FL250004</td>\n",
       "      <td>Amanda Spencer</td>\n",
       "      <td>F</td>\n",
       "      <td>38.0</td>\n",
       "      <td>Australia</td>\n",
       "      <td>English</td>\n",
       "      <td>Web Development</td>\n",
       "      <td>4.0</td>\n",
       "      <td>$40</td>\n",
       "      <td>1.5</td>\n",
       "      <td>N</td>\n",
       "      <td>90%</td>\n",
       "    </tr>\n",
       "    <tr>\n",
       "      <th>4</th>\n",
       "      <td>FL250005</td>\n",
       "      <td>Lynn Curtis DDS</td>\n",
       "      <td>female</td>\n",
       "      <td>53.0</td>\n",
       "      <td>Germany</td>\n",
       "      <td>German</td>\n",
       "      <td>Web Development</td>\n",
       "      <td>27.0</td>\n",
       "      <td>30</td>\n",
       "      <td>4.8</td>\n",
       "      <td>0</td>\n",
       "      <td>83%</td>\n",
       "    </tr>\n",
       "    <tr>\n",
       "      <th>...</th>\n",
       "      <td>...</td>\n",
       "      <td>...</td>\n",
       "      <td>...</td>\n",
       "      <td>...</td>\n",
       "      <td>...</td>\n",
       "      <td>...</td>\n",
       "      <td>...</td>\n",
       "      <td>...</td>\n",
       "      <td>...</td>\n",
       "      <td>...</td>\n",
       "      <td>...</td>\n",
       "      <td>...</td>\n",
       "    </tr>\n",
       "    <tr>\n",
       "      <th>995</th>\n",
       "      <td>FL250996</td>\n",
       "      <td>Albert Wilcox</td>\n",
       "      <td>Male</td>\n",
       "      <td>56.0</td>\n",
       "      <td>Turkey</td>\n",
       "      <td>Turkish</td>\n",
       "      <td>DevOps</td>\n",
       "      <td>13.0</td>\n",
       "      <td>100</td>\n",
       "      <td>0.0</td>\n",
       "      <td>no</td>\n",
       "      <td>68%</td>\n",
       "    </tr>\n",
       "    <tr>\n",
       "      <th>996</th>\n",
       "      <td>FL250997</td>\n",
       "      <td>Cheryl Norris</td>\n",
       "      <td>f</td>\n",
       "      <td>26.0</td>\n",
       "      <td>Germany</td>\n",
       "      <td>German</td>\n",
       "      <td>Blockchain Development</td>\n",
       "      <td>6.0</td>\n",
       "      <td>USD 40</td>\n",
       "      <td>2.8</td>\n",
       "      <td>N</td>\n",
       "      <td>82</td>\n",
       "    </tr>\n",
       "    <tr>\n",
       "      <th>997</th>\n",
       "      <td>FL250998</td>\n",
       "      <td>Kathy Watkins</td>\n",
       "      <td>female</td>\n",
       "      <td>37.0</td>\n",
       "      <td>Japan</td>\n",
       "      <td>Japanese</td>\n",
       "      <td>Data Analysis</td>\n",
       "      <td>15.0</td>\n",
       "      <td>75</td>\n",
       "      <td>NaN</td>\n",
       "      <td>False</td>\n",
       "      <td>94%</td>\n",
       "    </tr>\n",
       "    <tr>\n",
       "      <th>998</th>\n",
       "      <td>FL250999</td>\n",
       "      <td>John Obrien</td>\n",
       "      <td>m</td>\n",
       "      <td>46.0</td>\n",
       "      <td>Russia</td>\n",
       "      <td>Russian</td>\n",
       "      <td>Machine Learning</td>\n",
       "      <td>22.0</td>\n",
       "      <td>100</td>\n",
       "      <td>2.8</td>\n",
       "      <td>yes</td>\n",
       "      <td>97</td>\n",
       "    </tr>\n",
       "    <tr>\n",
       "      <th>999</th>\n",
       "      <td>FL251000</td>\n",
       "      <td>Dawn Green</td>\n",
       "      <td>Female</td>\n",
       "      <td>36.0</td>\n",
       "      <td>Mexico</td>\n",
       "      <td>Spanish</td>\n",
       "      <td>UI/UX Design</td>\n",
       "      <td>18.0</td>\n",
       "      <td>$20</td>\n",
       "      <td>1.7</td>\n",
       "      <td>1</td>\n",
       "      <td>72</td>\n",
       "    </tr>\n",
       "  </tbody>\n",
       "</table>\n",
       "<p>1000 rows × 12 columns</p>\n",
       "</div>"
      ],
      "text/plain": [
       "    freelancer_ID             name  gender   age    country  language  \\\n",
       "0        FL250001  Ms. Nicole Kidd       f  52.0      Italy   Italian   \n",
       "1        FL250002   Vanessa Garcia  FEMALE  52.0  Australia   English   \n",
       "2        FL250003      Juan Nelson    male  53.0    Germany    German   \n",
       "3        FL250004   Amanda Spencer       F  38.0  Australia   English   \n",
       "4        FL250005  Lynn Curtis DDS  female  53.0    Germany    German   \n",
       "..            ...              ...     ...   ...        ...       ...   \n",
       "995      FL250996    Albert Wilcox    Male  56.0     Turkey   Turkish   \n",
       "996      FL250997    Cheryl Norris       f  26.0    Germany    German   \n",
       "997      FL250998    Kathy Watkins  female  37.0      Japan  Japanese   \n",
       "998      FL250999      John Obrien       m  46.0     Russia   Russian   \n",
       "999      FL251000       Dawn Green  Female  36.0     Mexico   Spanish   \n",
       "\n",
       "              primary_skill  years_of_experience hourly_rate (USD)  rating  \\\n",
       "0    Blockchain Development                 11.0               100     NaN   \n",
       "1               Mobile Apps                 34.0           USD 100     3.3   \n",
       "2            Graphic Design                 31.0                50     0.0   \n",
       "3           Web Development                  4.0               $40     1.5   \n",
       "4           Web Development                 27.0                30     4.8   \n",
       "..                      ...                  ...               ...     ...   \n",
       "995                  DevOps                 13.0               100     0.0   \n",
       "996  Blockchain Development                  6.0            USD 40     2.8   \n",
       "997           Data Analysis                 15.0                75     NaN   \n",
       "998        Machine Learning                 22.0               100     2.8   \n",
       "999            UI/UX Design                 18.0               $20     1.7   \n",
       "\n",
       "    is_active client_satisfaction  \n",
       "0           0                 NaN  \n",
       "1           1                 84%  \n",
       "2           N                 71%  \n",
       "3           N                 90%  \n",
       "4           0                 83%  \n",
       "..        ...                 ...  \n",
       "995        no                 68%  \n",
       "996         N                  82  \n",
       "997     False                 94%  \n",
       "998       yes                  97  \n",
       "999         1                  72  \n",
       "\n",
       "[1000 rows x 12 columns]"
      ]
     },
     "execution_count": 3,
     "metadata": {},
     "output_type": "execute_result"
    }
   ],
   "source": [
    "# data.info()\n",
    "data#.head()\n",
    "#data.tail()"
   ]
  },
  {
   "cell_type": "code",
   "execution_count": 4,
   "id": "846f0cb5-d8aa-436c-b6d6-0e08b3dea731",
   "metadata": {},
   "outputs": [
    {
     "name": "stdout",
     "output_type": "stream",
     "text": [
      "freelancer_ID            0\n",
      "name                     0\n",
      "gender                   0\n",
      "age                     30\n",
      "country                  0\n",
      "language                 0\n",
      "primary_skill            0\n",
      "years_of_experience     51\n",
      "hourly_rate (USD)       94\n",
      "rating                 101\n",
      "is_active               89\n",
      "client_satisfaction    176\n",
      "dtype: int64\n"
     ]
    }
   ],
   "source": [
    " #data.shape\n",
    "#data.columns\n",
    "\n",
    "print(data.isnull().sum())\n",
    "#print(data.isnull().values.any())\n",
    "#data['age']\n"
   ]
  },
  {
   "cell_type": "code",
   "execution_count": 5,
   "id": "4185a013-af65-4ef3-b1f8-1a6397a9fb9d",
   "metadata": {},
   "outputs": [
    {
     "data": {
      "text/plain": [
       "freelancer_ID           0.0\n",
       "name                    0.0\n",
       "gender                  0.0\n",
       "age                     3.0\n",
       "country                 0.0\n",
       "language                0.0\n",
       "primary_skill           0.0\n",
       "years_of_experience     5.1\n",
       "hourly_rate (USD)       9.4\n",
       "rating                 10.1\n",
       "is_active               8.9\n",
       "client_satisfaction    17.6\n",
       "dtype: float64"
      ]
     },
     "execution_count": 5,
     "metadata": {},
     "output_type": "execute_result"
    }
   ],
   "source": [
    "#print(data.isnull().sum().sum())\n",
    "missing_percent = (data.isnull().sum()) / (len(data)) * 100\n",
    "missing_percent"
   ]
  },
  {
   "cell_type": "code",
   "execution_count": 6,
   "id": "5276b175-4a8f-424e-b5d1-9bcc55de0f65",
   "metadata": {},
   "outputs": [
    {
     "data": {
      "text/plain": [
       "0      52.0\n",
       "1      52.0\n",
       "2      53.0\n",
       "3      38.0\n",
       "4      53.0\n",
       "       ... \n",
       "995    56.0\n",
       "996    26.0\n",
       "997    37.0\n",
       "998    46.0\n",
       "999    36.0\n",
       "Name: age, Length: 1000, dtype: float64"
      ]
     },
     "execution_count": 6,
     "metadata": {},
     "output_type": "execute_result"
    }
   ],
   "source": [
    "#data\n",
    "#data.columns\n",
    "#data['age'] = data['age'].isnull().sum()\n",
    "data['age'] = data['age'].fillna(data['age'].median())\n",
    "data['age']\n",
    "\n",
    "\n"
   ]
  },
  {
   "cell_type": "code",
   "execution_count": 7,
   "id": "409eae4c-78c4-4204-9621-0dbd8ea2bb87",
   "metadata": {},
   "outputs": [
    {
     "data": {
      "text/plain": [
       "0      0\n",
       "1      0\n",
       "2      0\n",
       "3      0\n",
       "4      0\n",
       "      ..\n",
       "995    0\n",
       "996    0\n",
       "997    0\n",
       "998    0\n",
       "999    0\n",
       "Name: age, Length: 1000, dtype: int64"
      ]
     },
     "execution_count": 7,
     "metadata": {},
     "output_type": "execute_result"
    }
   ],
   "source": []
  },
  {
   "cell_type": "code",
   "execution_count": 8,
   "id": "969bdca1-6559-481b-9df5-a7a63a1ac05f",
   "metadata": {},
   "outputs": [
    {
     "name": "stdout",
     "output_type": "stream",
     "text": [
      "freelancer_ID          False\n",
      "name                   False\n",
      "gender                 False\n",
      "age                    False\n",
      "country                False\n",
      "language               False\n",
      "primary_skill          False\n",
      "years_of_experience     True\n",
      "hourly_rate (USD)       True\n",
      "rating                  True\n",
      "is_active               True\n",
      "client_satisfaction     True\n",
      "dtype: bool\n"
     ]
    }
   ],
   "source": [
    "#print(data['age'].isnull().any())\n",
    "#print(data.isnull().any())\n"
   ]
  },
  {
   "cell_type": "code",
   "execution_count": 9,
   "id": "467b58f2-f31f-4a1d-9114-fb1bb9373620",
   "metadata": {},
   "outputs": [
    {
     "data": {
      "text/plain": [
       "True"
      ]
     },
     "execution_count": 9,
     "metadata": {},
     "output_type": "execute_result"
    }
   ],
   "source": [
    "#data.columns\n",
    "#data['years_of_experience'] = (data['years_of_experience'].isnull().sum())\n",
    "#data['years_of_experience'].isnull().any()"
   ]
  },
  {
   "cell_type": "code",
   "execution_count": 10,
   "id": "fc11fba8-4e7d-418d-9d5e-495f0251f983",
   "metadata": {},
   "outputs": [],
   "source": [
    "\n",
    "#pd.set_option('display.max_rows', None)\n",
    "#pd.set_option('display.max_columns', None)\n",
    "#print(data)\n"
   ]
  },
  {
   "cell_type": "code",
   "execution_count": null,
   "id": "519e2452-5297-4066-a46b-52dcc79e3268",
   "metadata": {},
   "outputs": [],
   "source": []
  }
 ],
 "metadata": {
  "kernelspec": {
   "display_name": "Python 3 (ipykernel)",
   "language": "python",
   "name": "python3"
  },
  "language_info": {
   "codemirror_mode": {
    "name": "ipython",
    "version": 3
   },
   "file_extension": ".py",
   "mimetype": "text/x-python",
   "name": "python",
   "nbconvert_exporter": "python",
   "pygments_lexer": "ipython3",
   "version": "3.12.7"
  }
 },
 "nbformat": 4,
 "nbformat_minor": 5
}
