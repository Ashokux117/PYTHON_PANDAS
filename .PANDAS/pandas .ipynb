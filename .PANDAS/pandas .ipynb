{
 "cells": [
  {
   "cell_type": "code",
   "execution_count": 1,
   "id": "0ad63b9e-08ee-4295-97f2-0d9e961d11d3",
   "metadata": {},
   "outputs": [],
   "source": [
    "import pandas as pd \n",
    "import numpy as np"
   ]
  },
  {
   "cell_type": "code",
   "execution_count": 7,
   "id": "f570019c-f574-48d2-b6ca-f5ada5e9e468",
   "metadata": {},
   "outputs": [
    {
     "data": {
      "text/plain": [
       "{'name': ['rohit', 'sanjay', 'rahul', 'ajay', 'kavir'],\n",
       " 'city': ['pune', 'ranchi', 'patna', 'jhar', 'kolkata'],\n",
       " 'marks': [92, 40, 35, 20, 80]}"
      ]
     },
     "execution_count": 7,
     "metadata": {},
     "output_type": "execute_result"
    }
   ],
   "source": [
    "#  create dataframe \n",
    "dict1 = {\n",
    "    \"name\":['rohit', 'sanjay', 'rahul', 'ajay', 'kavir'],\n",
    "    \"city\":['pune', 'ranchi', 'patna', 'jhar', 'kolkata'],\n",
    "    \"marks\":[92,40,35,20,80]\n",
    "}\n",
    "dict1"
   ]
  },
  {
   "cell_type": "code",
   "execution_count": 9,
   "id": "c9f5daeb-e079-4026-991b-a661d314962b",
   "metadata": {},
   "outputs": [
    {
     "data": {
      "text/html": [
       "<div>\n",
       "<style scoped>\n",
       "    .dataframe tbody tr th:only-of-type {\n",
       "        vertical-align: middle;\n",
       "    }\n",
       "\n",
       "    .dataframe tbody tr th {\n",
       "        vertical-align: top;\n",
       "    }\n",
       "\n",
       "    .dataframe thead th {\n",
       "        text-align: right;\n",
       "    }\n",
       "</style>\n",
       "<table border=\"1\" class=\"dataframe\">\n",
       "  <thead>\n",
       "    <tr style=\"text-align: right;\">\n",
       "      <th></th>\n",
       "      <th>name</th>\n",
       "      <th>city</th>\n",
       "      <th>marks</th>\n",
       "    </tr>\n",
       "  </thead>\n",
       "  <tbody>\n",
       "    <tr>\n",
       "      <th>0</th>\n",
       "      <td>rohit</td>\n",
       "      <td>pune</td>\n",
       "      <td>92</td>\n",
       "    </tr>\n",
       "    <tr>\n",
       "      <th>1</th>\n",
       "      <td>sanjay</td>\n",
       "      <td>ranchi</td>\n",
       "      <td>40</td>\n",
       "    </tr>\n",
       "    <tr>\n",
       "      <th>2</th>\n",
       "      <td>rahul</td>\n",
       "      <td>patna</td>\n",
       "      <td>35</td>\n",
       "    </tr>\n",
       "    <tr>\n",
       "      <th>3</th>\n",
       "      <td>ajay</td>\n",
       "      <td>jhar</td>\n",
       "      <td>20</td>\n",
       "    </tr>\n",
       "    <tr>\n",
       "      <th>4</th>\n",
       "      <td>kavir</td>\n",
       "      <td>kolkata</td>\n",
       "      <td>80</td>\n",
       "    </tr>\n",
       "  </tbody>\n",
       "</table>\n",
       "</div>"
      ],
      "text/plain": [
       "     name     city  marks\n",
       "0   rohit     pune     92\n",
       "1  sanjay   ranchi     40\n",
       "2   rahul    patna     35\n",
       "3    ajay     jhar     20\n",
       "4   kavir  kolkata     80"
      ]
     },
     "execution_count": 9,
     "metadata": {},
     "output_type": "execute_result"
    }
   ],
   "source": [
    "df = pd.DataFrame(dict1)\n",
    "df"
   ]
  },
  {
   "cell_type": "code",
   "execution_count": 15,
   "id": "01899d71-b66c-44be-9f50-fc25f94656bb",
   "metadata": {},
   "outputs": [],
   "source": [
    "df.to_csv('friend.csv')\n",
    "\n"
   ]
  },
  {
   "cell_type": "code",
   "execution_count": 17,
   "id": "f9fabc1d-3c81-4d54-9ad3-d3593ae2bd83",
   "metadata": {},
   "outputs": [
    {
     "data": {
      "text/html": [
       "<div>\n",
       "<style scoped>\n",
       "    .dataframe tbody tr th:only-of-type {\n",
       "        vertical-align: middle;\n",
       "    }\n",
       "\n",
       "    .dataframe tbody tr th {\n",
       "        vertical-align: top;\n",
       "    }\n",
       "\n",
       "    .dataframe thead th {\n",
       "        text-align: right;\n",
       "    }\n",
       "</style>\n",
       "<table border=\"1\" class=\"dataframe\">\n",
       "  <thead>\n",
       "    <tr style=\"text-align: right;\">\n",
       "      <th></th>\n",
       "      <th>name</th>\n",
       "      <th>city</th>\n",
       "      <th>marks</th>\n",
       "    </tr>\n",
       "  </thead>\n",
       "  <tbody>\n",
       "    <tr>\n",
       "      <th>0</th>\n",
       "      <td>rohit</td>\n",
       "      <td>pune</td>\n",
       "      <td>92</td>\n",
       "    </tr>\n",
       "    <tr>\n",
       "      <th>1</th>\n",
       "      <td>sanjay</td>\n",
       "      <td>ranchi</td>\n",
       "      <td>40</td>\n",
       "    </tr>\n",
       "  </tbody>\n",
       "</table>\n",
       "</div>"
      ],
      "text/plain": [
       "     name    city  marks\n",
       "0   rohit    pune     92\n",
       "1  sanjay  ranchi     40"
      ]
     },
     "execution_count": 17,
     "metadata": {},
     "output_type": "execute_result"
    }
   ],
   "source": [
    "df.head(2)"
   ]
  },
  {
   "cell_type": "code",
   "execution_count": 19,
   "id": "104719a2-d853-4e2a-91cd-2f1f387fd9f5",
   "metadata": {},
   "outputs": [
    {
     "data": {
      "text/html": [
       "<div>\n",
       "<style scoped>\n",
       "    .dataframe tbody tr th:only-of-type {\n",
       "        vertical-align: middle;\n",
       "    }\n",
       "\n",
       "    .dataframe tbody tr th {\n",
       "        vertical-align: top;\n",
       "    }\n",
       "\n",
       "    .dataframe thead th {\n",
       "        text-align: right;\n",
       "    }\n",
       "</style>\n",
       "<table border=\"1\" class=\"dataframe\">\n",
       "  <thead>\n",
       "    <tr style=\"text-align: right;\">\n",
       "      <th></th>\n",
       "      <th>name</th>\n",
       "      <th>city</th>\n",
       "      <th>marks</th>\n",
       "    </tr>\n",
       "  </thead>\n",
       "  <tbody>\n",
       "    <tr>\n",
       "      <th>3</th>\n",
       "      <td>ajay</td>\n",
       "      <td>jhar</td>\n",
       "      <td>20</td>\n",
       "    </tr>\n",
       "    <tr>\n",
       "      <th>4</th>\n",
       "      <td>kavir</td>\n",
       "      <td>kolkata</td>\n",
       "      <td>80</td>\n",
       "    </tr>\n",
       "  </tbody>\n",
       "</table>\n",
       "</div>"
      ],
      "text/plain": [
       "    name     city  marks\n",
       "3   ajay     jhar     20\n",
       "4  kavir  kolkata     80"
      ]
     },
     "execution_count": 19,
     "metadata": {},
     "output_type": "execute_result"
    }
   ],
   "source": [
    "df.tail(2)"
   ]
  },
  {
   "cell_type": "code",
   "execution_count": 21,
   "id": "462a5138-309d-4105-b7ae-58c72c6bb90e",
   "metadata": {},
   "outputs": [
    {
     "data": {
      "text/html": [
       "<div>\n",
       "<style scoped>\n",
       "    .dataframe tbody tr th:only-of-type {\n",
       "        vertical-align: middle;\n",
       "    }\n",
       "\n",
       "    .dataframe tbody tr th {\n",
       "        vertical-align: top;\n",
       "    }\n",
       "\n",
       "    .dataframe thead th {\n",
       "        text-align: right;\n",
       "    }\n",
       "</style>\n",
       "<table border=\"1\" class=\"dataframe\">\n",
       "  <thead>\n",
       "    <tr style=\"text-align: right;\">\n",
       "      <th></th>\n",
       "      <th>marks</th>\n",
       "    </tr>\n",
       "  </thead>\n",
       "  <tbody>\n",
       "    <tr>\n",
       "      <th>count</th>\n",
       "      <td>5.000000</td>\n",
       "    </tr>\n",
       "    <tr>\n",
       "      <th>mean</th>\n",
       "      <td>53.400000</td>\n",
       "    </tr>\n",
       "    <tr>\n",
       "      <th>std</th>\n",
       "      <td>30.948344</td>\n",
       "    </tr>\n",
       "    <tr>\n",
       "      <th>min</th>\n",
       "      <td>20.000000</td>\n",
       "    </tr>\n",
       "    <tr>\n",
       "      <th>25%</th>\n",
       "      <td>35.000000</td>\n",
       "    </tr>\n",
       "    <tr>\n",
       "      <th>50%</th>\n",
       "      <td>40.000000</td>\n",
       "    </tr>\n",
       "    <tr>\n",
       "      <th>75%</th>\n",
       "      <td>80.000000</td>\n",
       "    </tr>\n",
       "    <tr>\n",
       "      <th>max</th>\n",
       "      <td>92.000000</td>\n",
       "    </tr>\n",
       "  </tbody>\n",
       "</table>\n",
       "</div>"
      ],
      "text/plain": [
       "           marks\n",
       "count   5.000000\n",
       "mean   53.400000\n",
       "std    30.948344\n",
       "min    20.000000\n",
       "25%    35.000000\n",
       "50%    40.000000\n",
       "75%    80.000000\n",
       "max    92.000000"
      ]
     },
     "execution_count": 21,
     "metadata": {},
     "output_type": "execute_result"
    }
   ],
   "source": [
    "df.describe()"
   ]
  },
  {
   "cell_type": "code",
   "execution_count": 34,
   "id": "189da472-248e-42fe-85d5-4ffbfc98e26c",
   "metadata": {},
   "outputs": [],
   "source": [
    "df.index =['first', 'second', 'third', 'four', 'five']\n"
   ]
  },
  {
   "cell_type": "code",
   "execution_count": 36,
   "id": "34413ce3-601e-4831-91e3-34b247b1d24e",
   "metadata": {},
   "outputs": [
    {
     "data": {
      "text/html": [
       "<div>\n",
       "<style scoped>\n",
       "    .dataframe tbody tr th:only-of-type {\n",
       "        vertical-align: middle;\n",
       "    }\n",
       "\n",
       "    .dataframe tbody tr th {\n",
       "        vertical-align: top;\n",
       "    }\n",
       "\n",
       "    .dataframe thead th {\n",
       "        text-align: right;\n",
       "    }\n",
       "</style>\n",
       "<table border=\"1\" class=\"dataframe\">\n",
       "  <thead>\n",
       "    <tr style=\"text-align: right;\">\n",
       "      <th></th>\n",
       "      <th>name</th>\n",
       "      <th>city</th>\n",
       "      <th>marks</th>\n",
       "    </tr>\n",
       "  </thead>\n",
       "  <tbody>\n",
       "    <tr>\n",
       "      <th>first</th>\n",
       "      <td>rohit</td>\n",
       "      <td>pune</td>\n",
       "      <td>92</td>\n",
       "    </tr>\n",
       "    <tr>\n",
       "      <th>second</th>\n",
       "      <td>sanjay</td>\n",
       "      <td>ranchi</td>\n",
       "      <td>40</td>\n",
       "    </tr>\n",
       "    <tr>\n",
       "      <th>third</th>\n",
       "      <td>rahul</td>\n",
       "      <td>patna</td>\n",
       "      <td>35</td>\n",
       "    </tr>\n",
       "    <tr>\n",
       "      <th>four</th>\n",
       "      <td>ajay</td>\n",
       "      <td>jhar</td>\n",
       "      <td>20</td>\n",
       "    </tr>\n",
       "    <tr>\n",
       "      <th>five</th>\n",
       "      <td>kavir</td>\n",
       "      <td>kolkata</td>\n",
       "      <td>80</td>\n",
       "    </tr>\n",
       "  </tbody>\n",
       "</table>\n",
       "</div>"
      ],
      "text/plain": [
       "          name     city  marks\n",
       "first    rohit     pune     92\n",
       "second  sanjay   ranchi     40\n",
       "third    rahul    patna     35\n",
       "four      ajay     jhar     20\n",
       "five     kavir  kolkata     80"
      ]
     },
     "execution_count": 36,
     "metadata": {},
     "output_type": "execute_result"
    }
   ],
   "source": [
    "df"
   ]
  },
  {
   "cell_type": "code",
   "execution_count": 48,
   "id": "f19dd829-06f1-46ab-948e-ca1d04cf42db",
   "metadata": {},
   "outputs": [
    {
     "data": {
      "text/plain": [
       "0     0.938280\n",
       "1     0.566582\n",
       "2     0.261233\n",
       "3     0.952433\n",
       "4     0.860153\n",
       "5     0.222610\n",
       "6     0.537025\n",
       "7     0.072033\n",
       "8     0.094884\n",
       "9     0.762402\n",
       "10    0.206630\n",
       "11    0.589543\n",
       "12    0.323407\n",
       "13    0.310999\n",
       "14    0.241342\n",
       "15    0.893295\n",
       "16    0.379399\n",
       "17    0.735841\n",
       "18    0.323808\n",
       "19    0.649558\n",
       "20    0.034452\n",
       "21    0.888588\n",
       "22    0.562564\n",
       "23    0.241123\n",
       "24    0.221670\n",
       "dtype: float64"
      ]
     },
     "execution_count": 48,
     "metadata": {},
     "output_type": "execute_result"
    }
   ],
   "source": [
    "ser = pd.Series(np.random.rand(25))\n",
    "ser"
   ]
  },
  {
   "cell_type": "code",
   "execution_count": 50,
   "id": "6296afd6-855c-4db3-bc84-31bfe10480c1",
   "metadata": {},
   "outputs": [
    {
     "data": {
      "text/plain": [
       "pandas.core.series.Series"
      ]
     },
     "execution_count": 50,
     "metadata": {},
     "output_type": "execute_result"
    }
   ],
   "source": [
    "type(ser)"
   ]
  },
  {
   "cell_type": "code",
   "execution_count": 52,
   "id": "27508f9c-3be0-4627-8f9b-2dd4446e818e",
   "metadata": {},
   "outputs": [],
   "source": [
    "newdf = pd.DataFrame(np.random.rand(320,5),index=np.arange(320))\n"
   ]
  },
  {
   "cell_type": "code",
   "execution_count": 58,
   "id": "cef60ef9-991d-414c-8d3c-371702e6b59f",
   "metadata": {},
   "outputs": [
    {
     "data": {
      "text/html": [
       "<div>\n",
       "<style scoped>\n",
       "    .dataframe tbody tr th:only-of-type {\n",
       "        vertical-align: middle;\n",
       "    }\n",
       "\n",
       "    .dataframe tbody tr th {\n",
       "        vertical-align: top;\n",
       "    }\n",
       "\n",
       "    .dataframe thead th {\n",
       "        text-align: right;\n",
       "    }\n",
       "</style>\n",
       "<table border=\"1\" class=\"dataframe\">\n",
       "  <thead>\n",
       "    <tr style=\"text-align: right;\">\n",
       "      <th></th>\n",
       "      <th>0</th>\n",
       "      <th>1</th>\n",
       "      <th>2</th>\n",
       "      <th>3</th>\n",
       "      <th>4</th>\n",
       "    </tr>\n",
       "  </thead>\n",
       "  <tbody>\n",
       "    <tr>\n",
       "      <th>0</th>\n",
       "      <td>0.790727</td>\n",
       "      <td>0.392320</td>\n",
       "      <td>0.448117</td>\n",
       "      <td>0.684822</td>\n",
       "      <td>0.761302</td>\n",
       "    </tr>\n",
       "    <tr>\n",
       "      <th>1</th>\n",
       "      <td>0.107905</td>\n",
       "      <td>0.492733</td>\n",
       "      <td>0.979307</td>\n",
       "      <td>0.811124</td>\n",
       "      <td>0.933788</td>\n",
       "    </tr>\n",
       "    <tr>\n",
       "      <th>2</th>\n",
       "      <td>0.700586</td>\n",
       "      <td>0.765867</td>\n",
       "      <td>0.577239</td>\n",
       "      <td>0.929708</td>\n",
       "      <td>0.512515</td>\n",
       "    </tr>\n",
       "    <tr>\n",
       "      <th>3</th>\n",
       "      <td>0.357615</td>\n",
       "      <td>0.507378</td>\n",
       "      <td>0.035435</td>\n",
       "      <td>0.266916</td>\n",
       "      <td>0.613522</td>\n",
       "    </tr>\n",
       "    <tr>\n",
       "      <th>4</th>\n",
       "      <td>0.390429</td>\n",
       "      <td>0.606655</td>\n",
       "      <td>0.278521</td>\n",
       "      <td>0.202196</td>\n",
       "      <td>0.220645</td>\n",
       "    </tr>\n",
       "  </tbody>\n",
       "</table>\n",
       "</div>"
      ],
      "text/plain": [
       "          0         1         2         3         4\n",
       "0  0.790727  0.392320  0.448117  0.684822  0.761302\n",
       "1  0.107905  0.492733  0.979307  0.811124  0.933788\n",
       "2  0.700586  0.765867  0.577239  0.929708  0.512515\n",
       "3  0.357615  0.507378  0.035435  0.266916  0.613522\n",
       "4  0.390429  0.606655  0.278521  0.202196  0.220645"
      ]
     },
     "execution_count": 58,
     "metadata": {},
     "output_type": "execute_result"
    }
   ],
   "source": [
    "newdf.head()"
   ]
  },
  {
   "cell_type": "code",
   "execution_count": 64,
   "id": "66073a6f-f1f8-4508-8b58-c208a1f5e3cb",
   "metadata": {},
   "outputs": [
    {
     "data": {
      "text/html": [
       "<div>\n",
       "<style scoped>\n",
       "    .dataframe tbody tr th:only-of-type {\n",
       "        vertical-align: middle;\n",
       "    }\n",
       "\n",
       "    .dataframe tbody tr th {\n",
       "        vertical-align: top;\n",
       "    }\n",
       "\n",
       "    .dataframe thead th {\n",
       "        text-align: right;\n",
       "    }\n",
       "</style>\n",
       "<table border=\"1\" class=\"dataframe\">\n",
       "  <thead>\n",
       "    <tr style=\"text-align: right;\">\n",
       "      <th></th>\n",
       "      <th>0</th>\n",
       "      <th>1</th>\n",
       "      <th>2</th>\n",
       "      <th>3</th>\n",
       "      <th>4</th>\n",
       "    </tr>\n",
       "  </thead>\n",
       "  <tbody>\n",
       "    <tr>\n",
       "      <th>0</th>\n",
       "      <td>0.790727</td>\n",
       "      <td>0.392320</td>\n",
       "      <td>0.448117</td>\n",
       "      <td>0.684822</td>\n",
       "      <td>0.761302</td>\n",
       "    </tr>\n",
       "    <tr>\n",
       "      <th>1</th>\n",
       "      <td>0.107905</td>\n",
       "      <td>0.492733</td>\n",
       "      <td>0.979307</td>\n",
       "      <td>0.811124</td>\n",
       "      <td>0.933788</td>\n",
       "    </tr>\n",
       "    <tr>\n",
       "      <th>2</th>\n",
       "      <td>0.700586</td>\n",
       "      <td>0.765867</td>\n",
       "      <td>0.577239</td>\n",
       "      <td>0.929708</td>\n",
       "      <td>0.512515</td>\n",
       "    </tr>\n",
       "    <tr>\n",
       "      <th>3</th>\n",
       "      <td>0.357615</td>\n",
       "      <td>0.507378</td>\n",
       "      <td>0.035435</td>\n",
       "      <td>0.266916</td>\n",
       "      <td>0.613522</td>\n",
       "    </tr>\n",
       "    <tr>\n",
       "      <th>4</th>\n",
       "      <td>0.390429</td>\n",
       "      <td>0.606655</td>\n",
       "      <td>0.278521</td>\n",
       "      <td>0.202196</td>\n",
       "      <td>0.220645</td>\n",
       "    </tr>\n",
       "    <tr>\n",
       "      <th>...</th>\n",
       "      <td>...</td>\n",
       "      <td>...</td>\n",
       "      <td>...</td>\n",
       "      <td>...</td>\n",
       "      <td>...</td>\n",
       "    </tr>\n",
       "    <tr>\n",
       "      <th>315</th>\n",
       "      <td>0.470651</td>\n",
       "      <td>0.527411</td>\n",
       "      <td>0.724201</td>\n",
       "      <td>0.129874</td>\n",
       "      <td>0.867560</td>\n",
       "    </tr>\n",
       "    <tr>\n",
       "      <th>316</th>\n",
       "      <td>0.048934</td>\n",
       "      <td>0.313851</td>\n",
       "      <td>0.313585</td>\n",
       "      <td>0.803639</td>\n",
       "      <td>0.476061</td>\n",
       "    </tr>\n",
       "    <tr>\n",
       "      <th>317</th>\n",
       "      <td>0.887173</td>\n",
       "      <td>0.501245</td>\n",
       "      <td>0.583412</td>\n",
       "      <td>0.297917</td>\n",
       "      <td>0.866582</td>\n",
       "    </tr>\n",
       "    <tr>\n",
       "      <th>318</th>\n",
       "      <td>0.441477</td>\n",
       "      <td>0.816632</td>\n",
       "      <td>0.608995</td>\n",
       "      <td>0.982093</td>\n",
       "      <td>0.198455</td>\n",
       "    </tr>\n",
       "    <tr>\n",
       "      <th>319</th>\n",
       "      <td>0.462185</td>\n",
       "      <td>0.182972</td>\n",
       "      <td>0.263030</td>\n",
       "      <td>0.847508</td>\n",
       "      <td>0.448411</td>\n",
       "    </tr>\n",
       "  </tbody>\n",
       "</table>\n",
       "<p>320 rows × 5 columns</p>\n",
       "</div>"
      ],
      "text/plain": [
       "            0         1         2         3         4\n",
       "0    0.790727  0.392320  0.448117  0.684822  0.761302\n",
       "1    0.107905  0.492733  0.979307  0.811124  0.933788\n",
       "2    0.700586  0.765867  0.577239  0.929708  0.512515\n",
       "3    0.357615  0.507378  0.035435  0.266916  0.613522\n",
       "4    0.390429  0.606655  0.278521  0.202196  0.220645\n",
       "..        ...       ...       ...       ...       ...\n",
       "315  0.470651  0.527411  0.724201  0.129874  0.867560\n",
       "316  0.048934  0.313851  0.313585  0.803639  0.476061\n",
       "317  0.887173  0.501245  0.583412  0.297917  0.866582\n",
       "318  0.441477  0.816632  0.608995  0.982093  0.198455\n",
       "319  0.462185  0.182972  0.263030  0.847508  0.448411\n",
       "\n",
       "[320 rows x 5 columns]"
      ]
     },
     "execution_count": 64,
     "metadata": {},
     "output_type": "execute_result"
    }
   ],
   "source": [
    "newdf"
   ]
  },
  {
   "cell_type": "code",
   "execution_count": 66,
   "id": "e1fcb4df-b221-49e3-b042-b9b02bf3f607",
   "metadata": {},
   "outputs": [
    {
     "data": {
      "text/plain": [
       "pandas.core.frame.DataFrame"
      ]
     },
     "execution_count": 66,
     "metadata": {},
     "output_type": "execute_result"
    }
   ],
   "source": [
    "type(newdf)"
   ]
  },
  {
   "cell_type": "code",
   "execution_count": 68,
   "id": "05da4670-30d2-4537-9e38-718a140652a8",
   "metadata": {},
   "outputs": [
    {
     "data": {
      "text/html": [
       "<div>\n",
       "<style scoped>\n",
       "    .dataframe tbody tr th:only-of-type {\n",
       "        vertical-align: middle;\n",
       "    }\n",
       "\n",
       "    .dataframe tbody tr th {\n",
       "        vertical-align: top;\n",
       "    }\n",
       "\n",
       "    .dataframe thead th {\n",
       "        text-align: right;\n",
       "    }\n",
       "</style>\n",
       "<table border=\"1\" class=\"dataframe\">\n",
       "  <thead>\n",
       "    <tr style=\"text-align: right;\">\n",
       "      <th></th>\n",
       "      <th>0</th>\n",
       "      <th>1</th>\n",
       "      <th>2</th>\n",
       "      <th>3</th>\n",
       "      <th>4</th>\n",
       "    </tr>\n",
       "  </thead>\n",
       "  <tbody>\n",
       "    <tr>\n",
       "      <th>count</th>\n",
       "      <td>320.000000</td>\n",
       "      <td>320.000000</td>\n",
       "      <td>320.000000</td>\n",
       "      <td>320.000000</td>\n",
       "      <td>320.000000</td>\n",
       "    </tr>\n",
       "    <tr>\n",
       "      <th>mean</th>\n",
       "      <td>0.487685</td>\n",
       "      <td>0.513363</td>\n",
       "      <td>0.484222</td>\n",
       "      <td>0.489629</td>\n",
       "      <td>0.516722</td>\n",
       "    </tr>\n",
       "    <tr>\n",
       "      <th>std</th>\n",
       "      <td>0.289745</td>\n",
       "      <td>0.283813</td>\n",
       "      <td>0.301621</td>\n",
       "      <td>0.288699</td>\n",
       "      <td>0.297167</td>\n",
       "    </tr>\n",
       "    <tr>\n",
       "      <th>min</th>\n",
       "      <td>0.007429</td>\n",
       "      <td>0.001337</td>\n",
       "      <td>0.003627</td>\n",
       "      <td>0.003119</td>\n",
       "      <td>0.002571</td>\n",
       "    </tr>\n",
       "    <tr>\n",
       "      <th>25%</th>\n",
       "      <td>0.220331</td>\n",
       "      <td>0.263922</td>\n",
       "      <td>0.220360</td>\n",
       "      <td>0.234542</td>\n",
       "      <td>0.251008</td>\n",
       "    </tr>\n",
       "    <tr>\n",
       "      <th>50%</th>\n",
       "      <td>0.484145</td>\n",
       "      <td>0.524488</td>\n",
       "      <td>0.475158</td>\n",
       "      <td>0.479549</td>\n",
       "      <td>0.527733</td>\n",
       "    </tr>\n",
       "    <tr>\n",
       "      <th>75%</th>\n",
       "      <td>0.748783</td>\n",
       "      <td>0.751592</td>\n",
       "      <td>0.747645</td>\n",
       "      <td>0.728607</td>\n",
       "      <td>0.771622</td>\n",
       "    </tr>\n",
       "    <tr>\n",
       "      <th>max</th>\n",
       "      <td>0.995775</td>\n",
       "      <td>0.999920</td>\n",
       "      <td>0.999633</td>\n",
       "      <td>0.996202</td>\n",
       "      <td>0.993133</td>\n",
       "    </tr>\n",
       "  </tbody>\n",
       "</table>\n",
       "</div>"
      ],
      "text/plain": [
       "                0           1           2           3           4\n",
       "count  320.000000  320.000000  320.000000  320.000000  320.000000\n",
       "mean     0.487685    0.513363    0.484222    0.489629    0.516722\n",
       "std      0.289745    0.283813    0.301621    0.288699    0.297167\n",
       "min      0.007429    0.001337    0.003627    0.003119    0.002571\n",
       "25%      0.220331    0.263922    0.220360    0.234542    0.251008\n",
       "50%      0.484145    0.524488    0.475158    0.479549    0.527733\n",
       "75%      0.748783    0.751592    0.747645    0.728607    0.771622\n",
       "max      0.995775    0.999920    0.999633    0.996202    0.993133"
      ]
     },
     "execution_count": 68,
     "metadata": {},
     "output_type": "execute_result"
    }
   ],
   "source": [
    "newdf.describe()"
   ]
  },
  {
   "cell_type": "code",
   "execution_count": 72,
   "id": "5ede1e41-92fd-474d-97d7-4c42fa6dff4d",
   "metadata": {},
   "outputs": [
    {
     "data": {
      "text/plain": [
       "0    float64\n",
       "1    float64\n",
       "2    float64\n",
       "3    float64\n",
       "4    float64\n",
       "dtype: object"
      ]
     },
     "execution_count": 72,
     "metadata": {},
     "output_type": "execute_result"
    }
   ],
   "source": [
    "newdf.dtypes"
   ]
  },
  {
   "cell_type": "code",
   "execution_count": 76,
   "id": "0f7dc250-e2b0-478c-a7c9-bdfd017d99a9",
   "metadata": {},
   "outputs": [
    {
     "name": "stderr",
     "output_type": "stream",
     "text": [
      "C:\\Users\\DELL\\AppData\\Local\\Temp\\ipykernel_15864\\2980316308.py:1: FutureWarning: ChainedAssignmentError: behaviour will change in pandas 3.0!\n",
      "You are setting values through chained assignment. Currently this works in certain cases, but when using Copy-on-Write (which will become the default behaviour in pandas 3.0) this will never work to update the original DataFrame or Series, because the intermediate object on which we are setting values will behave as a copy.\n",
      "A typical example is when you are setting values in a column of a DataFrame, like:\n",
      "\n",
      "df[\"col\"][row_indexer] = value\n",
      "\n",
      "Use `df.loc[row_indexer, \"col\"] = values` instead, to perform the assignment in a single step and ensure this keeps updating the original `df`.\n",
      "\n",
      "See the caveats in the documentation: https://pandas.pydata.org/pandas-docs/stable/user_guide/indexing.html#returning-a-view-versus-a-copy\n",
      "\n",
      "  newdf[0][0]= 'harry'\n",
      "C:\\Users\\DELL\\AppData\\Local\\Temp\\ipykernel_15864\\2980316308.py:1: FutureWarning: Setting an item of incompatible dtype is deprecated and will raise an error in a future version of pandas. Value 'harry' has dtype incompatible with float64, please explicitly cast to a compatible dtype first.\n",
      "  newdf[0][0]= 'harry'\n"
     ]
    }
   ],
   "source": [
    "newdf[0][0]= 'harry'"
   ]
  },
  {
   "cell_type": "code",
   "execution_count": 86,
   "id": "190484d5-10c4-4754-bce0-1e07957bd92b",
   "metadata": {},
   "outputs": [
    {
     "name": "stderr",
     "output_type": "stream",
     "text": [
      "C:\\Users\\DELL\\AppData\\Local\\Temp\\ipykernel_15864\\583416071.py:1: FutureWarning: ChainedAssignmentError: behaviour will change in pandas 3.0!\n",
      "You are setting values through chained assignment. Currently this works in certain cases, but when using Copy-on-Write (which will become the default behaviour in pandas 3.0) this will never work to update the original DataFrame or Series, because the intermediate object on which we are setting values will behave as a copy.\n",
      "A typical example is when you are setting values in a column of a DataFrame, like:\n",
      "\n",
      "df[\"col\"][row_indexer] = value\n",
      "\n",
      "Use `df.loc[row_indexer, \"col\"] = values` instead, to perform the assignment in a single step and ensure this keeps updating the original `df`.\n",
      "\n",
      "See the caveats in the documentation: https://pandas.pydata.org/pandas-docs/stable/user_guide/indexing.html#returning-a-view-versus-a-copy\n",
      "\n",
      "  newdf[4][0]='Ashok'\n",
      "C:\\Users\\DELL\\AppData\\Local\\Temp\\ipykernel_15864\\583416071.py:1: SettingWithCopyWarning: \n",
      "A value is trying to be set on a copy of a slice from a DataFrame\n",
      "\n",
      "See the caveats in the documentation: https://pandas.pydata.org/pandas-docs/stable/user_guide/indexing.html#returning-a-view-versus-a-copy\n",
      "  newdf[4][0]='Ashok'\n",
      "C:\\Users\\DELL\\AppData\\Local\\Temp\\ipykernel_15864\\583416071.py:1: FutureWarning: Setting an item of incompatible dtype is deprecated and will raise an error in a future version of pandas. Value 'Ashok' has dtype incompatible with float64, please explicitly cast to a compatible dtype first.\n",
      "  newdf[4][0]='Ashok'\n"
     ]
    }
   ],
   "source": [
    "newdf[4][0]='Ashok'"
   ]
  },
  {
   "cell_type": "code",
   "execution_count": 88,
   "id": "e04099c9-433c-423f-b0d7-58637330e9d0",
   "metadata": {},
   "outputs": [
    {
     "data": {
      "text/html": [
       "<div>\n",
       "<style scoped>\n",
       "    .dataframe tbody tr th:only-of-type {\n",
       "        vertical-align: middle;\n",
       "    }\n",
       "\n",
       "    .dataframe tbody tr th {\n",
       "        vertical-align: top;\n",
       "    }\n",
       "\n",
       "    .dataframe thead th {\n",
       "        text-align: right;\n",
       "    }\n",
       "</style>\n",
       "<table border=\"1\" class=\"dataframe\">\n",
       "  <thead>\n",
       "    <tr style=\"text-align: right;\">\n",
       "      <th></th>\n",
       "      <th>0</th>\n",
       "      <th>1</th>\n",
       "      <th>2</th>\n",
       "      <th>3</th>\n",
       "      <th>4</th>\n",
       "    </tr>\n",
       "  </thead>\n",
       "  <tbody>\n",
       "    <tr>\n",
       "      <th>0</th>\n",
       "      <td>harry</td>\n",
       "      <td>0.392320</td>\n",
       "      <td>0.448117</td>\n",
       "      <td>0.684822</td>\n",
       "      <td>Ashok</td>\n",
       "    </tr>\n",
       "    <tr>\n",
       "      <th>1</th>\n",
       "      <td>0.107905</td>\n",
       "      <td>0.492733</td>\n",
       "      <td>0.979307</td>\n",
       "      <td>0.811124</td>\n",
       "      <td>0.933788</td>\n",
       "    </tr>\n",
       "    <tr>\n",
       "      <th>2</th>\n",
       "      <td>0.700586</td>\n",
       "      <td>0.765867</td>\n",
       "      <td>0.577239</td>\n",
       "      <td>0.929708</td>\n",
       "      <td>0.512515</td>\n",
       "    </tr>\n",
       "    <tr>\n",
       "      <th>3</th>\n",
       "      <td>0.357615</td>\n",
       "      <td>0.507378</td>\n",
       "      <td>0.035435</td>\n",
       "      <td>0.266916</td>\n",
       "      <td>0.613522</td>\n",
       "    </tr>\n",
       "    <tr>\n",
       "      <th>4</th>\n",
       "      <td>Ashok</td>\n",
       "      <td>0.606655</td>\n",
       "      <td>0.278521</td>\n",
       "      <td>0.202196</td>\n",
       "      <td>0.220645</td>\n",
       "    </tr>\n",
       "  </tbody>\n",
       "</table>\n",
       "</div>"
      ],
      "text/plain": [
       "          0         1         2         3         4\n",
       "0     harry  0.392320  0.448117  0.684822     Ashok\n",
       "1  0.107905  0.492733  0.979307  0.811124  0.933788\n",
       "2  0.700586  0.765867  0.577239  0.929708  0.512515\n",
       "3  0.357615  0.507378  0.035435  0.266916  0.613522\n",
       "4     Ashok  0.606655  0.278521  0.202196  0.220645"
      ]
     },
     "execution_count": 88,
     "metadata": {},
     "output_type": "execute_result"
    }
   ],
   "source": [
    "newdf.head()"
   ]
  },
  {
   "cell_type": "code",
   "execution_count": 90,
   "id": "ed7fbb9b-83fc-443f-83ed-9d2f3757477e",
   "metadata": {},
   "outputs": [
    {
     "data": {
      "text/plain": [
       "Index([  0,   1,   2,   3,   4,   5,   6,   7,   8,   9,\n",
       "       ...\n",
       "       310, 311, 312, 313, 314, 315, 316, 317, 318, 319],\n",
       "      dtype='int32', length=320)"
      ]
     },
     "execution_count": 90,
     "metadata": {},
     "output_type": "execute_result"
    }
   ],
   "source": [
    "newdf.index"
   ]
  },
  {
   "cell_type": "code",
   "execution_count": 92,
   "id": "87a96eaf-38ce-4c00-8432-266932c06b8c",
   "metadata": {},
   "outputs": [
    {
     "data": {
      "text/plain": [
       "RangeIndex(start=0, stop=5, step=1)"
      ]
     },
     "execution_count": 92,
     "metadata": {},
     "output_type": "execute_result"
    }
   ],
   "source": [
    "newdf.columns"
   ]
  },
  {
   "cell_type": "code",
   "execution_count": 94,
   "id": "62d38fb6-7851-4635-bfa3-55b6684fcb24",
   "metadata": {},
   "outputs": [
    {
     "data": {
      "text/plain": [
       "<bound method DataFrame.to_numpy of             0         1         2         3         4\n",
       "0       harry  0.392320  0.448117  0.684822     Ashok\n",
       "1    0.107905  0.492733  0.979307  0.811124  0.933788\n",
       "2    0.700586  0.765867  0.577239  0.929708  0.512515\n",
       "3    0.357615  0.507378  0.035435  0.266916  0.613522\n",
       "4       Ashok  0.606655  0.278521  0.202196  0.220645\n",
       "..        ...       ...       ...       ...       ...\n",
       "315  0.470651  0.527411  0.724201  0.129874   0.86756\n",
       "316  0.048934  0.313851  0.313585  0.803639  0.476061\n",
       "317  0.887173  0.501245  0.583412  0.297917  0.866582\n",
       "318  0.441477  0.816632  0.608995  0.982093  0.198455\n",
       "319  0.462185  0.182972  0.263030  0.847508  0.448411\n",
       "\n",
       "[320 rows x 5 columns]>"
      ]
     },
     "execution_count": 94,
     "metadata": {},
     "output_type": "execute_result"
    }
   ],
   "source": [
    "newdf.to_numpy"
   ]
  },
  {
   "cell_type": "code",
   "execution_count": null,
   "id": "ca56181c-db2f-46fb-a25e-1a9406b4487e",
   "metadata": {},
   "outputs": [],
   "source": []
  }
 ],
 "metadata": {
  "kernelspec": {
   "display_name": "Python [conda env:base] *",
   "language": "python",
   "name": "conda-base-py"
  },
  "language_info": {
   "codemirror_mode": {
    "name": "ipython",
    "version": 3
   },
   "file_extension": ".py",
   "mimetype": "text/x-python",
   "name": "python",
   "nbconvert_exporter": "python",
   "pygments_lexer": "ipython3",
   "version": "3.12.7"
  }
 },
 "nbformat": 4,
 "nbformat_minor": 5
}
